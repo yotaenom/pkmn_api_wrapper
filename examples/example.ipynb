{
 "cells": [
  {
   "cell_type": "code",
   "execution_count": 1,
   "metadata": {},
   "outputs": [
    {
     "ename": "ModuleNotFoundError",
     "evalue": "No module named 'pokeapi_wrapper'",
     "output_type": "error",
     "traceback": [
      "\u001b[0;31m---------------------------------------------------------------------------\u001b[0m",
      "\u001b[0;31mModuleNotFoundError\u001b[0m                       Traceback (most recent call last)",
      "Cell \u001b[0;32mIn[1], line 5\u001b[0m\n\u001b[1;32m      1\u001b[0m \u001b[38;5;28;01mimport\u001b[39;00m \u001b[38;5;21;01msys\u001b[39;00m\n\u001b[1;32m      3\u001b[0m sys\u001b[38;5;241m.\u001b[39mpath\u001b[38;5;241m.\u001b[39mappend(\u001b[38;5;124m\"\u001b[39m\u001b[38;5;124m../..\u001b[39m\u001b[38;5;124m\"\u001b[39m)  \u001b[38;5;66;03m# this is including the parent directory in the path\u001b[39;00m\n\u001b[0;32m----> 5\u001b[0m \u001b[38;5;28;01mfrom\u001b[39;00m \u001b[38;5;21;01mpokeapi_wrapper\u001b[39;00m\u001b[38;5;21;01m.\u001b[39;00m\u001b[38;5;21;01mapi\u001b[39;00m \u001b[38;5;28;01mimport\u001b[39;00m PokeAPI\n",
      "\u001b[0;31mModuleNotFoundError\u001b[0m: No module named 'pokeapi_wrapper'"
     ]
    }
   ],
   "source": [
    "import sys\n",
    "\n",
    "sys.path.append(\"../..\")  # this is including the parent directory in the path\n",
    "\n",
    "from pokeapi_wrapper.api import PokeAPI"
   ]
  },
  {
   "cell_type": "code",
   "execution_count": 11,
   "metadata": {},
   "outputs": [
    {
     "name": "stdout",
     "output_type": "stream",
     "text": [
      "Fetching Bulbasaur...\n"
     ]
    }
   ],
   "source": [
    "# Initialize the API client\n",
    "api = PokeAPI()\n",
    "\n",
    "# Fetch a Pokémon by name\n",
    "print(\"Fetching Bulbasaur...\")\n",
    "bulbasaur = api.get_pokemon(\"bulbasaur\")"
   ]
  },
  {
   "cell_type": "code",
   "execution_count": 12,
   "metadata": {},
   "outputs": [
    {
     "name": "stdout",
     "output_type": "stream",
     "text": [
      "Name: bulbasaur\n",
      "ID: 1\n",
      "Height: 0.7 m\n",
      "Weight: 6.9 kg\n"
     ]
    }
   ],
   "source": [
    "# Display basic information\n",
    "print(f\"Name: {bulbasaur.name}\")\n",
    "print(f\"ID: {bulbasaur.id}\")\n",
    "print(f\"Height: {bulbasaur.height/10} m\")  # Height is in decimeters\n",
    "print(f\"Weight: {bulbasaur.weight/10} kg\")  # Weight is in hectograms"
   ]
  },
  {
   "cell_type": "code",
   "execution_count": 13,
   "metadata": {},
   "outputs": [
    {
     "name": "stdout",
     "output_type": "stream",
     "text": [
      "\n",
      "Types:\n",
      "- grass\n",
      "- poison\n",
      "\n",
      "Abilities:\n",
      "- overgrow\n",
      "- chlorophyll (hidden)\n"
     ]
    }
   ],
   "source": [
    "# Display types\n",
    "print(\"\\nTypes:\")\n",
    "for type_info in bulbasaur.types:\n",
    "    print(f\"- {type_info.type['name']}\")\n",
    "\n",
    "# Display abilities\n",
    "print(\"\\nAbilities:\")\n",
    "for ability_info in bulbasaur.abilities:\n",
    "    hidden_text = \" (hidden)\" if ability_info.is_hidden else \"\"\n",
    "    print(f\"- {ability_info.ability['name']}{hidden_text}\")"
   ]
  },
  {
   "cell_type": "code",
   "execution_count": 15,
   "metadata": {},
   "outputs": [
    {
     "name": "stdout",
     "output_type": "stream",
     "text": [
      "\n",
      "Bulbasaur ASCII Art:\n",
      "                                                            \n",
      "                                                            \n",
      "                                                            \n",
      "                                                            \n",
      "                                                            \n",
      "                                                            \n",
      "                                                            \n",
      "                                                            \n",
      "                                  I                         \n",
      "                           w&&&&dddI'                       \n",
      "                   ZZ]ZZZZgvZZg&&&ddw'                      \n",
      "                   ZZZLLLZZgggg'&dddww'                     \n",
      "                  vLZZLLZg]iQvLLvwwwIww                     \n",
      "                 v'ggggggggggLvLLLLLw'                      \n",
      "                   LLiiiiii]LLLLLLvvLv                      \n",
      "                     ggLLLLLvgLL'LLvvL'                     \n",
      "                     LggLL LgLgL 'L]]'                      \n",
      "                           ''''                             \n",
      "                                                            \n",
      "                                                            \n",
      "                                                            \n",
      "                                                            \n",
      "                                                            \n",
      "                                                            \n",
      "                                                            \n",
      "                                                            \n",
      "                                                            \n"
     ]
    }
   ],
   "source": [
    "# Display ASCII art\n",
    "print(\"\\nBulbasaur ASCII Art:\")\n",
    "bulbasaur.get_ascii_sprite(width=60)\n",
    "pass"
   ]
  }
 ],
 "metadata": {
  "kernelspec": {
   "display_name": "my_new_env",
   "language": "python",
   "name": "python3"
  },
  "language_info": {
   "codemirror_mode": {
    "name": "ipython",
    "version": 3
   },
   "file_extension": ".py",
   "mimetype": "text/x-python",
   "name": "python",
   "nbconvert_exporter": "python",
   "pygments_lexer": "ipython3",
   "version": "3.8.20"
  }
 },
 "nbformat": 4,
 "nbformat_minor": 2
}
